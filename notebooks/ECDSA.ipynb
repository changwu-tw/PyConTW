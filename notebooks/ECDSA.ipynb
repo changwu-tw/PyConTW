{
 "cells": [
  {
   "cell_type": "code",
   "execution_count": 1,
   "metadata": {},
   "outputs": [],
   "source": [
    "import hashlib\n",
    "\n",
    "from binascii import hexlify"
   ]
  },
  {
   "cell_type": "markdown",
   "metadata": {},
   "source": [
    "# ECDSA Signature"
   ]
  },
  {
   "cell_type": "markdown",
   "metadata": {},
   "source": [
    "Given an elliptic curve $E$ over $Z_p$ (prime $p$). Given base point $G$ of order $n$, the private key $d$, the public key $Q = d \\cdot G$, and the message $m$ to be signed."
   ]
  },
  {
   "cell_type": "markdown",
   "metadata": {},
   "source": [
    "## 01. Settings\n",
    "\n",
    "### Curve parameters\n",
    "- https://en.bitcoin.it/wiki/Secp256k1"
   ]
  },
  {
   "cell_type": "code",
   "execution_count": 2,
   "metadata": {},
   "outputs": [],
   "source": [
    "F = FiniteField(0xFFFFFFFFFFFFFFFFFFFFFFFFFFFFFFFFFFFFFFFFFFFFFFFFFFFFFFFEFFFFFC2F)\n",
    "C = EllipticCurve([F(0), F(7)])                                # y^2=x^3+ax+b\n",
    "G = C.lift_x(0x79BE667EF9DCBBAC55A06295CE870B07029BFCDB2DCE28D959F2815B16F81798)\n",
    "N = FiniteField(C.order())                                     # num of points on the curve"
   ]
  },
  {
   "cell_type": "markdown",
   "metadata": {},
   "source": [
    "### A key pair"
   ]
  },
  {
   "cell_type": "code",
   "execution_count": 3,
   "metadata": {},
   "outputs": [
    {
     "name": "stdout",
     "output_type": "stream",
     "text": [
      "91646451067979531419929296935089627346081227919853588824419654463587592396732 (41650285194105644952810400568962693913058361801238541639251781599755670253544 : 433981072180906437058739893394977346989918261772728769159713782503378434551 : 1)\n"
     ]
    }
   ],
   "source": [
    "d = int(N.random_element())                                    # privkey\n",
    "Q = d*G                                                        # pubkey\n",
    "print(d, Q)"
   ]
  },
  {
   "cell_type": "markdown",
   "metadata": {},
   "source": [
    "### Message"
   ]
  },
  {
   "cell_type": "code",
   "execution_count": 4,
   "metadata": {},
   "outputs": [],
   "source": [
    "message = b'PyCon TW 2020'"
   ]
  },
  {
   "cell_type": "markdown",
   "metadata": {},
   "source": [
    "## 02. Signature generation algorithm\n",
    "\n",
    "1. Compute $e=\\text{SHA}_{3}(m)$ and convert $e$ to an integer\n",
    "2. Select a random integer $k$ such that $1 \\le k \\le n-1$\n",
    "3. Compute $(x_1, y_1)=k \\cdot G$\n",
    "4. Convert $x_1$ to an integer and compute $r=x_1$ mod $n$. If $r=0$, return to step 2\n",
    "5. Compute $s=k^{-1}(e+dr)$ mod $n$. If $s=0$, return to step 2\n",
    "6. The signature for $m$ using the key $d$ is the pair $(r, s)$"
   ]
  },
  {
   "cell_type": "code",
   "execution_count": 5,
   "metadata": {},
   "outputs": [
    {
     "data": {
      "text/plain": [
       "(54460143101901608606748136884153729283988794475785368603728342732215650943694,\n",
       " 80238113962221162457703268349206538524358600215301158373357916927570924142287)"
      ]
     },
     "execution_count": 5,
     "metadata": {},
     "output_type": "execute_result"
    }
   ],
   "source": [
    "# msg\n",
    "h = hashlib.sha3_256(message).hexdigest()                      # msg\n",
    "e = int(h, 16)\n",
    "\n",
    "# sign\n",
    "k = N.random_element()                                         # nonce\n",
    "r = (int(k)*G).xy()[0]                                         # r = kG.x\n",
    "s = (1/k)*(e+N(r)*d)                                           # s = k^-1(e+dr)\n",
    "\n",
    "# signature\n",
    "(r,s)"
   ]
  },
  {
   "cell_type": "markdown",
   "metadata": {},
   "source": [
    "## 03. Signature verification algorithm\n",
    "\n",
    "Given the message $m$, public key $d \\cdot G$, Signature $(r, s)$\n",
    "\n",
    "1. Compute $e=\\text{SHA}_3(m)$ and convert $e$ to an integer\n",
    "2. Compute $s^{-1}$ over $Z_p$\n",
    "3. Compute $k_1 = e \\ast s^{-1}$ mod $p$\n",
    "4. Compute $k_2 = r \\ast s^{-1}$ mod $p$\n",
    "5. Compute $\\sigma = k_1 \\cdot G + k_2 \\cdot Q$\n",
    "6. If $\\sigma = 0$, then the signature is invalid\n",
    "7. $\\sigma = (x, y) \\in Z_p$, compute $t = x$ mod $p$\n",
    "8. If $t = r$, the signature is valid"
   ]
  },
  {
   "cell_type": "code",
   "execution_count": 6,
   "metadata": {},
   "outputs": [
    {
     "data": {
      "text/plain": [
       "True"
      ]
     },
     "execution_count": 6,
     "metadata": {},
     "output_type": "execute_result"
    }
   ],
   "source": [
    "# verify\n",
    "w = 1/N(s)                                                           # w = s^-1\n",
    "r == (int(N(e)*w)*G + int(N(r)*w)*Q).xy()[0]                         # r == (e*w*G+r*w*Q).x"
   ]
  },
  {
   "cell_type": "markdown",
   "metadata": {},
   "source": [
    "## Reference\n",
    "\n",
    "\n",
    "- [1] https://en.wikipedia.org/wiki/Elliptic_Curve_Digital_Signature_Algorithm\n",
    "- [2] https://github.com/TheBlueMatt/bitcoinninja/blob/master/secp256k1.ecdsa.sage"
   ]
  },
  {
   "cell_type": "code",
   "execution_count": null,
   "metadata": {},
   "outputs": [],
   "source": []
  }
 ],
 "metadata": {
  "kernelspec": {
   "display_name": "SageMath 9.1",
   "language": "sage",
   "name": "sagemath"
  },
  "language_info": {
   "codemirror_mode": {
    "name": "ipython",
    "version": 3
   },
   "file_extension": ".py",
   "mimetype": "text/x-python",
   "name": "python",
   "nbconvert_exporter": "python",
   "pygments_lexer": "ipython3",
   "version": "3.7.3"
  }
 },
 "nbformat": 4,
 "nbformat_minor": 2
}
