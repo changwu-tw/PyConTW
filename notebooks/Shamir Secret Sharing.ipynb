{
 "cells": [
  {
   "cell_type": "markdown",
   "metadata": {},
   "source": [
    "# Shamir Secret Sharing (SSS)\n",
    "\n",
    "A secret is divided into $n$ pieces. At least $t$ shares are required to construct the secret but no information about the secret is revealed from $t-1$ pieces or less.\n",
    "\n",
    "\n",
    "1. Dealer $D$ picks a random $t-1$ degree polynomial $ y(x) = a_0 + a_1x + a_2x^2 + \\ldots + a_{t-1}x^{t-1} $, where $ s = a_0 $\n",
    "\n",
    "2. Dealer $D$ computes and **secretly** distributes the share $y(j)$ to each player $j$. \n",
    "\n",
    "3. We can compute the secret $ s = y(0) $ by using Lagrange interpolation when receiving the $t$ shares.\n",
    "\n",
    "_Lagrange polynomial_: Given $t$ points, we can obtain the unique polynomial.\n",
    "\n",
    "$$ y(x) = \\sum_{i=1}^{t} y(i)l_i(x) $$\n",
    "  \n",
    "$$ l_i(x) = \\prod_{1 \\leq m \\leq t, m \\neq t} \\frac{(x-x_m)}{(x_i-x_m)} = \\frac{(x-x_1)}{(x_i-x_1)} \\cdots \\frac{(x-x_t)}{(x_i-x_t)} $$"
   ]
  },
  {
   "cell_type": "markdown",
   "metadata": {},
   "source": [
    "## Example \n",
    "\n",
    "$(3,5)$-shamir secret sharing\n",
    "\n",
    "$ s=11, p=17 $\n",
    "\n",
    "$ y(x) = 11 + 8x + 7x^2 $ mod $17$\n",
    "\n",
    "$ y(1) = 11 + 8 \\times 1 + 7 \\times 1^2 \\equiv 9 $ mod $17$\n",
    "\n",
    "$ y(2) = 11 + 8 \\times 2 + 7 \\times 2^2 \\equiv 4 $ mod $17$\n",
    "\n",
    "$ y(3) = 11 + 8 \\times 3 + 7 \\times 3^2 \\equiv 13 $ mod $17$\n",
    "\n",
    "$ y(4) = 11 + 8 \\times 4 + 7 \\times 4^2 \\equiv 2 $ mod $17$\n",
    "\n",
    "$ y(5) = 11 + 8 \\times 5 + 7 \\times 5^2 \\equiv 5 $ mod $17$\n",
    "\n",
    "\n",
    "$ s = y(1)\\frac{(2)}{(2-1)}\\frac{(3)}{(3-1)} + y(2)\\frac{(3)}{(3-2)}\\frac{(1)}{(1-2)} + y(3)\\frac{(1)}{(1-3)}\\frac{(2)}{(2-3)} = 9 \\cdot 3 + 4 \\cdot (-3) + 13 \\cdot 1 $ mod $17 = 11$ "
   ]
  },
  {
   "cell_type": "markdown",
   "metadata": {},
   "source": [
    "## Reference\n",
    "\n",
    "- [1] https://iancoleman.io/shamir/\n",
    "- [2] https://pycryptodome.readthedocs.io/en/latest/src/protocol/ss.html\n",
    "- [3] https://github.com/hashicorp/vault/tree/master/shamir"
   ]
  },
  {
   "cell_type": "markdown",
   "metadata": {},
   "source": [
    "## SSS"
   ]
  },
  {
   "cell_type": "code",
   "execution_count": 1,
   "metadata": {},
   "outputs": [
    {
     "data": {
      "text/plain": [
       "[(1, 9), (2, 4), (3, 13), (4, 2), (5, 5)]"
      ]
     },
     "execution_count": 1,
     "metadata": {},
     "output_type": "execute_result"
    }
   ],
   "source": [
    "F = FiniteField(17) \n",
    "P = F['x']\n",
    "\n",
    "f = P(\"11 + 8x + 7x^2\")\n",
    "shares = [(x, f(x)) for x in range(1, 6)]                         # polynomial evaluation\n",
    "shares"
   ]
  },
  {
   "cell_type": "code",
   "execution_count": 2,
   "metadata": {},
   "outputs": [
    {
     "data": {
      "text/plain": [
       "7*x^2 + 8*x + 11"
      ]
     },
     "execution_count": 2,
     "metadata": {},
     "output_type": "execute_result"
    }
   ],
   "source": [
    "recover = P.lagrange_polynomial(shares)\n",
    "recover"
   ]
  },
  {
   "cell_type": "code",
   "execution_count": 3,
   "metadata": {},
   "outputs": [
    {
     "data": {
      "text/plain": [
       "11"
      ]
     },
     "execution_count": 3,
     "metadata": {},
     "output_type": "execute_result"
    }
   ],
   "source": [
    "secret = recover(0)\n",
    "secret"
   ]
  },
  {
   "cell_type": "markdown",
   "metadata": {},
   "source": [
    "## Resharing"
   ]
  },
  {
   "cell_type": "code",
   "execution_count": 4,
   "metadata": {},
   "outputs": [],
   "source": [
    "f1 = P(\"5x + 6x^2\")"
   ]
  },
  {
   "cell_type": "code",
   "execution_count": 5,
   "metadata": {},
   "outputs": [
    {
     "data": {
      "text/plain": [
       "[(1, 3), (2, 4), (3, 14), (4, 16), (5, 10)]"
      ]
     },
     "execution_count": 5,
     "metadata": {},
     "output_type": "execute_result"
    }
   ],
   "source": [
    "new_shares = [(x, f1(x)+f(x)) for x in range(1, 6)]              # polynomial evaluation\n",
    "new_shares"
   ]
  },
  {
   "cell_type": "code",
   "execution_count": 6,
   "metadata": {},
   "outputs": [
    {
     "data": {
      "text/plain": [
       "13*x^2 + 13*x + 11"
      ]
     },
     "execution_count": 6,
     "metadata": {},
     "output_type": "execute_result"
    }
   ],
   "source": [
    "recover = P.lagrange_polynomial(new_shares)\n",
    "recover"
   ]
  },
  {
   "cell_type": "code",
   "execution_count": 7,
   "metadata": {},
   "outputs": [
    {
     "data": {
      "text/plain": [
       "11"
      ]
     },
     "execution_count": 7,
     "metadata": {},
     "output_type": "execute_result"
    }
   ],
   "source": [
    "recover(0)"
   ]
  },
  {
   "cell_type": "code",
   "execution_count": null,
   "metadata": {},
   "outputs": [],
   "source": []
  }
 ],
 "metadata": {
  "kernelspec": {
   "display_name": "SageMath 9.1",
   "language": "sage",
   "name": "sagemath"
  },
  "language_info": {
   "codemirror_mode": {
    "name": "ipython",
    "version": 3
   },
   "file_extension": ".py",
   "mimetype": "text/x-python",
   "name": "python",
   "nbconvert_exporter": "python",
   "pygments_lexer": "ipython3",
   "version": "3.7.3"
  }
 },
 "nbformat": 4,
 "nbformat_minor": 2
}
